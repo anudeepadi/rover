{
 "cells": [
  {
   "cell_type": "markdown",
   "metadata": {},
   "source": [
    "# UTSA Lunabotics Tracked Rover Kinematics\n",
    "This Jupyter notebook calculates the velocities for each track in a tank-style rover system, in response to commands for angular and linear velocity.\n",
    "\n",
    "## Setup\n",
    "Our tracked rover chassis is defined by dimensions and track positions."
   ]
  },
  {
   "cell_type": "code",
   "execution_count": 1,
   "metadata": {},
   "outputs": [],
   "source": [
    "# Tracked rover geometry (in meters)\n",
    "ROVER_LENGTH = 0.52  # Length from front to back\n",
    "ROVER_WIDTH = 0.48   # Width from left to right track\n",
    "TRACK_LENGTH = 0.45  # Length of each track"
   ]
  },
  {
   "cell_type": "code",
   "execution_count": 2,
   "metadata": {},
   "outputs": [],
   "source": [
    "class Track(object):\n",
    "    \"\"\"Information about a track in our rover.\n",
    "    Axis orientation: +X is forward, +Y is left, +Z is up\n",
    "    \"\"\"\n",
    "\n",
    "    def __init__(self, name, offset_left):\n",
    "        \"\"\"Initialize a track with its position relative to center.\n",
    "        Args:\n",
    "            name: name for this track (e.g., 'left', 'right')\n",
    "            offset_left: left/right position relative to center, positive left.\n",
    "        \"\"\"\n",
    "        self.name = name\n",
    "        self.offset_left = offset_left\n",
    "        # For a tracked system, tracks always align with the rover's long axis\n",
    "        self.angle = 0.0"
   ]
  },
  {
   "cell_type": "code",
   "execution_count": 3,
   "metadata": {},
   "outputs": [],
   "source": [
    "class TrackVelocity(object):\n",
    "    \"\"\"Results of calculation for a named track.\"\"\"\n",
    "\n",
    "    def __init__(self, name, velocity):\n",
    "        \"\"\"Initialize a track with its calculated velocity.\n",
    "        Args:\n",
    "            name: name for this track\n",
    "            velocity: velocity for this track in meters/second\n",
    "        \"\"\"\n",
    "        self.name = name\n",
    "        self.velocity = velocity"
   ]
  },
  {
   "cell_type": "code",
   "execution_count": 4,
   "metadata": {},
   "outputs": [],
   "source": [
    "# Define our tracked rover with left and right tracks\n",
    "rover_tracks = [\n",
    "    Track('left', ROVER_WIDTH/2),\n",
    "    Track('right', -ROVER_WIDTH/2)\n",
    "]"
   ]
  },
  {
   "cell_type": "markdown",
   "metadata": {},
   "source": [
    "## Input\n",
    "Here we specify the desired rover motion."
   ]
  },
  {
   "cell_type": "code",
   "execution_count": 5,
   "metadata": {},
   "outputs": [],
   "source": [
    "import math\n",
    "\n",
    "# Commanded inputs\n",
    "velocityAngular = 0.5  # radians/sec, positive is counterclockwise rotation\n",
    "velocityLinear = 0.2   # meters/sec, positive is forward"
   ]
  },
  {
   "cell_type": "markdown",
   "metadata": {},
   "source": [
    "## Calculation\n",
    "\n",
    "### Track Velocities\n",
    "For a tank-style tracked system, the kinematics are simpler than for a rover with steerable wheels. We calculate the velocity for each track based on:\n",
    "\n",
    "1. The linear velocity component equal for both tracks\n",
    "2. The angular velocity component that differs between tracks (opposite directions)\n",
    "\n",
    "The velocity of each track is the sum of these components:\n",
    "- Left track: velocityLinear + (velocityAngular * (ROVER_WIDTH/2))\n",
    "- Right track: velocityLinear - (velocityAngular * (ROVER_WIDTH/2))\n",
    "\n",
    "Note that when turning in place (linear velocity = 0), the tracks move at equal speeds in opposite directions."
   ]
  },
  {
   "cell_type": "code",
   "execution_count": 6,
   "metadata": {},
   "outputs": [],
   "source": [
    "def calculate_track_velocities(tracks, vel_linear, vel_angular):\n",
    "    \"\"\"Calculate velocities for tracks based on linear and angular velocity commands.\n",
    "    \n",
    "    Args:\n",
    "        tracks: List of Track objects\n",
    "        vel_linear: Linear velocity in m/s (positive = forward)\n",
    "        vel_angular: Angular velocity in rad/s (positive = counterclockwise)\n",
    "        \n",
    "    Returns:\n",
    "        List of TrackVelocity objects\n",
    "    \"\"\"\n",
    "    results = []\n",
    "    \n",
    "    for track in tracks:\n",
    "        # Calculate velocity contribution from angular velocity\n",
    "        # Track on the outside of the turn moves faster\n",
    "        angular_component = vel_angular * track.offset_left\n",
    "        \n",
    "        # Total track velocity is sum of linear and angular components\n",
    "        track_velocity = vel_linear + angular_component\n",
    "        \n",
    "        results.append(TrackVelocity(track.name, track_velocity))\n",
    "        \n",
    "    return results"
   ]
  },
  {
   "cell_type": "code",
   "execution_count": 7,
   "metadata": {},
   "outputs": [],
   "source": [
    "# Calculate track velocities\n",
    "track_velocities = calculate_track_velocities(rover_tracks, velocityLinear, velocityAngular)\n",
    "\n",
    "# Save results in a dictionary for easy access\n",
    "velocity_dict = {}\n",
    "for result in track_velocities:\n",
    "    velocity_dict[result.name] = result.velocity"
   ]
  },
  {
   "cell_type": "markdown",
   "metadata": {},
   "source": [
    "## Visualization\n",
    "Let's visualize our rover and the track velocities."
   ]
  },
  {
   "cell_type": "code",
   "execution_count": null,
   "metadata": {},
   "outputs": [],
   "source": [
    "import matplotlib.pyplot as plt\n",
    "import numpy as np\n",
    "# if using a Jupyter notebook, include:\n",
    "%matplotlib inline\n",
    "\n",
    "def plot_tracked_rover(tracks, velocities, rover_length, rover_width):\n",
    "    \"\"\"Plot a simple visualization of the tracked rover and its track velocities.\"\"\"\n",
    "    fig, ax = plt.subplots(figsize=(8, 6))\n",
    "    \n",
    "    # Plot rover body outline\n",
    "    half_length = rover_length / 2\n",
    "    half_width = rover_width / 2\n",
    "    rover_corners = np.array([\n",
    "        [-half_length, -half_width],  # back right\n",
    "        [half_length, -half_width],   # front right\n",
    "        [half_length, half_width],    # front left\n",
    "        [-half_length, half_width],   # back left\n",
    "        [-half_length, -half_width]   # back to start to close the outline\n",
    "    ])\n",
    "    ax.plot(rover_corners[:, 0], rover_corners[:, 1], 'k-', linewidth=2)\n",
    "    \n",
    "    # Plot tracks\n",
    "    track_positions = {}\n",
    "    for track in tracks:\n",
    "        y_pos = track.offset_left\n",
    "        track_x = np.array([-half_length, half_length])\n",
    "        track_y = np.array([y_pos, y_pos])\n",
    "        ax.plot(track_x, track_y, 'g-', linewidth=6)\n",
    "        \n",
    "        # Store track position for velocity arrows\n",
    "        track_positions[track.name] = (0, y_pos)\n",
    "    \n",
    "    # Add velocity arrows\n",
    "    max_velocity = max(abs(v) for v in velocities.values())\n",
    "    arrow_scale = rover_length / (max_velocity * 2) if max_velocity > 0 else 1\n",
    "    \n",
    "    for track_name, velocity in velocities.items():\n",
    "        x, y = track_positions[track_name]\n",
    "        dx = velocity * arrow_scale\n",
    "        ax.arrow(x, y, dx, 0, head_width=0.05, head_length=0.1, fc='r', ec='r', linewidth=2)\n",
    "        \n",
    "        # Add velocity text\n",
    "        ax.text(x + dx/2, y + 0.1, f\"{velocity:.2f} m/s\", ha='center')\n",
    "    \n",
    "    # Set plot properties\n",
    "    ax.set_xlim(-rover_length, rover_length)\n",
    "    ax.set_ylim(-rover_width, rover_width)\n",
    "    ax.set_aspect('equal')\n",
    "    ax.set_title(f'Tracked Rover Motion (Linear: {velocityLinear} m/s, Angular: {velocityAngular} rad/s)')\n",
    "    ax.set_xlabel('X (meters)')\n",
    "    ax.set_ylabel('Y (meters)')\n",
    "    ax.grid(True)\n",
    "    \n",
    "    return fig, ax"
   ]
  },
  {
   "cell_type": "code",
   "execution_count": 10,
   "metadata": {},
   "outputs": [],
   "source": [
    "# Plot the rover and track velocities\n",
    "fig, ax = plot_tracked_rover(rover_tracks, velocity_dict, ROVER_LENGTH, ROVER_WIDTH)"
   ]
  },
  {
   "cell_type": "markdown",
   "metadata": {},
   "source": [
    "## Turn Radius Calculation\n",
    "We can calculate the instantaneous turn radius for our current velocity commands.\n",
    "This is useful for planning paths and understanding the rover's maneuverability."
   ]
  },
  {
   "cell_type": "code",
   "execution_count": 11,
   "metadata": {},
   "outputs": [
    {
     "name": "stdout",
     "output_type": "stream",
     "text": [
      "Turn radius: 0.40 meters\n"
     ]
    }
   ],
   "source": [
    "def calculate_turn_radius(vel_linear, vel_angular):\n",
    "    \"\"\"Calculate the instantaneous turn radius for given velocity commands.\n",
    "    \n",
    "    Args:\n",
    "        vel_linear: Linear velocity in m/s\n",
    "        vel_angular: Angular velocity in rad/s\n",
    "        \n",
    "    Returns:\n",
    "        Turn radius in meters (positive = counterclockwise turn, negative = clockwise)\n",
    "        Returns infinity for straight-line motion\n",
    "    \"\"\"\n",
    "    if vel_angular == 0:\n",
    "        return float('inf')  # Straight line motion\n",
    "    else:\n",
    "        return vel_linear / vel_angular\n",
    "\n",
    "# Calculate turn radius\n",
    "turn_radius = calculate_turn_radius(velocityLinear, velocityAngular)\n",
    "print(f\"Turn radius: {turn_radius:.2f} meters\")"
   ]
  },
  {
   "cell_type": "markdown",
   "metadata": {},
   "source": [
    "## Special Maneuvers\n",
    "Let's implement some special maneuvers for our tracked rover."
   ]
  },
  {
   "cell_type": "code",
   "execution_count": 12,
   "metadata": {},
   "outputs": [
    {
     "name": "stdout",
     "output_type": "stream",
     "text": [
      "\n",
      "Point turn velocities:\n",
      "left: 0.12 m/s\n",
      "right: -0.12 m/s\n",
      "\n",
      "Neutral turn velocities (1m radius):\n",
      "left: 0.25 m/s\n",
      "right: 0.15 m/s\n"
     ]
    }
   ],
   "source": [
    "def point_turn(tracks, angular_speed=0.5):\n",
    "    \"\"\"Calculate track velocities for turning in place.\n",
    "    \n",
    "    Args:\n",
    "        tracks: List of Track objects\n",
    "        angular_speed: Speed of rotation in rad/s\n",
    "        \n",
    "    Returns:\n",
    "        List of TrackVelocity objects\n",
    "    \"\"\"\n",
    "    return calculate_track_velocities(tracks, 0, angular_speed)\n",
    "\n",
    "def neutral_turn(tracks, linear_speed=0.2, turning_radius=1.0):\n",
    "    \"\"\"Calculate track velocities for a turn with a specific radius.\n",
    "    \n",
    "    Args:\n",
    "        tracks: List of Track objects\n",
    "        linear_speed: Forward speed in m/s\n",
    "        turning_radius: Desired turn radius in meters\n",
    "        \n",
    "    Returns:\n",
    "        List of TrackVelocity objects\n",
    "    \"\"\"\n",
    "    if turning_radius == 0:\n",
    "        return point_turn(tracks)\n",
    "    \n",
    "    angular_speed = linear_speed / turning_radius\n",
    "    return calculate_track_velocities(tracks, linear_speed, angular_speed)\n",
    "\n",
    "# Example: Calculate speeds for a point turn\n",
    "point_turn_velocities = point_turn(rover_tracks)\n",
    "print(\"\\nPoint turn velocities:\")\n",
    "for result in point_turn_velocities:\n",
    "    print(f\"{result.name}: {result.velocity:.2f} m/s\")\n",
    "\n",
    "# Example: Calculate speeds for a turn with 1-meter radius\n",
    "neutral_turn_velocities = neutral_turn(rover_tracks)\n",
    "print(\"\\nNeutral turn velocities (1m radius):\")\n",
    "for result in neutral_turn_velocities:\n",
    "    print(f\"{result.name}: {result.velocity:.2f} m/s\")"
   ]
  },
  {
   "cell_type": "markdown",
   "metadata": {},
   "source": [
    "## Motor Control Conversion\n",
    "Finally, let's convert our track velocities to motor control signals.\n",
    "This depends on your specific motor controller, but here's a simple example."
   ]
  },
  {
   "cell_type": "code",
   "execution_count": 13,
   "metadata": {},
   "outputs": [
    {
     "name": "stdout",
     "output_type": "stream",
     "text": [
      "\n",
      "Motor control signals:\n",
      "left: 163 (from 0.32 m/s)\n",
      "right: 40 (from 0.08 m/s)\n"
     ]
    }
   ],
   "source": [
    "def velocity_to_motor_signal(velocity, max_velocity=0.5, max_signal=255):\n",
    "    \"\"\"Convert a velocity value to a motor control signal.\n",
    "    \n",
    "    Args:\n",
    "        velocity: Track velocity in m/s\n",
    "        max_velocity: Maximum track velocity in m/s\n",
    "        max_signal: Maximum motor control signal value\n",
    "        \n",
    "    Returns:\n",
    "        Motor control signal value\n",
    "    \"\"\"\n",
    "    # Clamp velocity to max_velocity\n",
    "    clamped_velocity = max(min(velocity, max_velocity), -max_velocity)\n",
    "    \n",
    "    # Convert to signal value\n",
    "    signal = int((clamped_velocity / max_velocity) * max_signal)\n",
    "    \n",
    "    return signal\n",
    "\n",
    "# Calculate motor signals for our track velocities\n",
    "print(\"\\nMotor control signals:\")\n",
    "for track_name, velocity in velocity_dict.items():\n",
    "    signal = velocity_to_motor_signal(velocity)\n",
    "    print(f\"{track_name}: {signal} (from {velocity:.2f} m/s)\")"
   ]
  },
  {
   "cell_type": "markdown",
   "metadata": {},
   "source": [
    "## Conclusion\n",
    "This notebook provides the essential calculations for controlling a tracked rover system like the one we're building for the NASA Lunabotics competition. The differential drive system (tank-style tracks) offers excellent maneuverability on loose surfaces like lunar regolith.\n",
    "\n",
    "Future improvements could include:\n",
    "1. Modeling track slip on different surfaces\n",
    "2. Calculating power consumption based on track speeds and loads\n",
    "3. Implementing path planning algorithms\n",
    "4. Adding feedback control based on IMU data"
   ]
  },
  {
   "cell_type": "markdown",
   "metadata": {},
   "source": []
  }
 ],
 "metadata": {
  "kernelspec": {
   "display_name": "deepl",
   "language": "python",
   "name": "python3"
  },
  "language_info": {
   "codemirror_mode": {
    "name": "ipython",
    "version": 3
   },
   "file_extension": ".py",
   "mimetype": "text/x-python",
   "name": "python",
   "nbconvert_exporter": "python",
   "pygments_lexer": "ipython3",
   "version": "3.13.2"
  }
 },
 "nbformat": 4,
 "nbformat_minor": 4
}
